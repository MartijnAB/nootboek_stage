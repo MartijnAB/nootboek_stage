{
 "cells": [
  {
   "cell_type": "code",
   "execution_count": 52,
   "metadata": {
    "collapsed": true
   },
   "outputs": [],
   "source": [
    ""
   ]
  },
  {
   "cell_type": "code",
   "execution_count": 52,
   "metadata": {},
   "outputs": [],
   "source": [
    "import requests\n",
    "import re\n",
    "import pandas\n",
    "from SPARQLWrapper import SPARQLWrapper, JSON"
   ]
  },
  {
   "cell_type": "code",
   "execution_count": 53,
   "metadata": {},
   "outputs": [],
   "source": []
  },
  {
   "cell_type": "code",
   "execution_count": 53,
   "metadata": {},
   "outputs": [],
   "source": [
    "urla = \"http://bridgedb.prod.openrisknet.org/Human/xrefs/Ca/\"\n",
    "urlb = \"?dataSource=Wikidata\"\n",
    "urlc = \"?dataSource=ChEBI\"\n",
    "tggatesconvert = 'http://open-tggates-api.cloud.douglasconnect.com/v2/'"
   ]
  },
  {
   "cell_type": "code",
   "execution_count": 54,
   "metadata": {},
   "outputs": [],
   "source": []
  },
  {
   "cell_type": "code",
   "execution_count": 54,
   "metadata": {},
   "outputs": [],
   "source": [
    "CAS = [\"103-90-2\",\n",
    "\"88-18-6\",\n",
    "\"96-76-4\",\n",
    "\"98-54-4\",\n",
    "\"105-67-9\",\n",
    "\"106-44-5\",\n",
    "\"128-37-0\",\n",
    "\"128-39-2\",\n",
    "\"140-66-9\",\n",
    "\"576-26-1\",\n",
    "\"697-82-5\",\n",
    "\"2416-94-6\",\n",
    "\"4130-42-1\",\n",
    "\"120-80-9\",\n",
    "\"123-31-9\",\n",
    "\"700-13-0\",\n",
    "\"1948-33-0\",\n",
    "\"108-46-3\",\n",
    "\"108-73-6\",\n",
    "\"108-95-2\",]"
   ]
  },
  {
   "cell_type": "code",
   "execution_count": 55,
   "metadata": {},
   "outputs": [],
   "source": []
  },
  {
   "cell_type": "code",
   "execution_count": 55,
   "metadata": {},
   "outputs": [],
   "source": [
    "Phenols = {}\n",
    "cas_wikidata = {}"
   ]
  },
  {
   "cell_type": "code",
   "execution_count": 56,
   "metadata": {},
   "outputs": [],
   "source": []
  },
  {
   "cell_type": "code",
   "execution_count": 56,
   "metadata": {
    "collapsed": true
   },
   "outputs": [
    {
     "name": "stdout",
     "output_type": "stream",
     "text": [
      "{'123-31-9': ['Q419164'], '98-54-4': ['Q2306557'], '108-95-2': ['Q130336'], '108-73-6': ['Q899008'], '128-37-0': ['Q221945'], '106-44-5': ['Q312251'], '2416-94-6': ['Q27236151'], '1948-33-0': ['Q662443'], '697-82-5': ['Q27117905'], '140-66-9': ['Q15632771'], '108-46-3': ['Q408865'], '105-67-9': ['Q2437536'], '700-13-0': ['Q27279264'], '4130-42-1': ['Q26841169'], '96-76-4': ['Q26840829'], '120-80-9': ['Q282440'], '88-18-6': ['Q27115979'], '128-39-2': ['Q2218184'], '576-26-1': ['Q1055852']}\n"
     ]
    }
   ],
   "source": [
    "\n",
    "for cas_id in CAS:\n",
    "    cas_wikidata.update({cas_id:[requests.get(urla + cas_id + urlb).text.split(\"\\t\")[0]]})\n",
    "print(cas_wikidata)"
   ]
  },
  {
   "cell_type": "code",
   "execution_count": 57,
   "metadata": {},
   "outputs": [],
   "source": []
  },
  {
   "cell_type": "code",
   "execution_count": 57,
   "metadata": {},
   "outputs": [
    {
     "name": "stdout",
     "output_type": "stream",
     "text": [
      "{'123-31-9': ['Q419164', 'hydroquinone'], '98-54-4': ['Q2306557', '4-tert-butylphenol'], '108-95-2': ['Q130336', 'phenol'], '108-73-6': ['Q899008', 'phloroglucinol'], '128-37-0': ['Q221945', 'butylated hydroxytoluene'], '106-44-5': ['Q312251', 'para-cresol'], '2416-94-6': ['Q27236151', '2,3,6-trimethylphenol'], '1948-33-0': ['Q662443', 'tert-butylhydroquinone'], '697-82-5': ['Q27117905', '2,3,5-trimethylphenol'], '140-66-9': ['Q15632771', '4-tert-octylphenol'], '108-46-3': ['Q408865', 'resorcin'], '105-67-9': ['Q2437536', '2,4-Dimethylphenol'], '700-13-0': ['Q27279264', 'trimethylhydroquinone'], '4130-42-1': ['Q26841169', '2,6-di-tert-butyl-4-ethylphenol'], '96-76-4': ['Q26840829', '2,4-di-tert-butylphenol'], '120-80-9': ['Q282440', 'pyrocatechol'], '88-18-6': ['Q27115979', '2-tert-butylphenol'], '128-39-2': ['Q2218184', '2,6-di-tert-butylphenol'], '576-26-1': ['Q1055852', '2,6-Xylenol']}\n"
     ]
    }
   ],
   "source": [
    "def iter_cas(cas):\n",
    "    uitkomst = \"\"\n",
    "    for i in cas:\n",
    "        uitkomst += '?CAS_nummer=\"' + i + '\" || '\n",
    "    return uitkomst[:-4]\n",
    "\n",
    "sparql = SPARQLWrapper(\"https://query.wikidata.org/sparql\")\n",
    "\n",
    "pathwayQuery = '''SELECT ?item ?itemLabel ?CAS_nummer WHERE {\n",
    "  ?item wdt:P231 ?CAS_nummer FILTER('''+ iter_cas(CAS) + ''').\n",
    "  SERVICE wikibase:label { bd:serviceParam wikibase:language \"en\". }\n",
    "}'''\n",
    "\n",
    "\n",
    "\n",
    "sparql.setQuery(pathwayQuery)\n",
    "sparql.setReturnFormat(JSON)\n",
    "results = sparql.query().convert()\n",
    "\n",
    "for result in results[\"results\"][\"bindings\"]:\n",
    "    cas_wikidata[result['CAS_nummer']['value']] += [result['itemLabel']['value']]\n",
    "print(cas_wikidata)"
   ]
  },
  {
   "cell_type": "code",
   "execution_count": 58,
   "metadata": {},
   "outputs": [
    {
     "name": "stdout",
     "output_type": "stream",
     "text": [
      "2,4-dinitrophenol\n2-nitrofluorene\nLPS\nN-methyl-N-nitrosourea\nN-nitrosomorpholine\nTNFalpha\nWY-14643\nacarbose\nacetamide\nacetamidofluorene\nacetaminophen\nacetazolamide\nadapin\naflatoxin B1\najmaline\nallopurinol\nallyl alcohol\nalpidem\namiodarone\namitriptyline\namphotericin B\naspirin\nazathioprine\nbendazac\nbenzbromarone\nbenziodarone\nbromobenzene\nbromoethylamine\nbucetin\nbuspirone\nbuthionine sulfoximine\nbutylated hydroxyanisole\ncaffeine\ncaptopril\ncarbamazepine\ncarbon tetrachloride\nchloramphenicol\nchlormadinone\nchlormezanone\nchlorpheniramine\nchlorpromazine\nchlorpropamide\ncimetidine\nciprofloxacin\nclofibrate\nclomipramine\nclozapine\ncolchicine\ncoumarin\ncycloheximide\ncyclophosphamide\ncyclosporine A\ndanazol\ndantrolene\ndexamethasone\ndiazepam\ndiclofenac\ndiethyl maleate\ndiltiazem\ndisopyramide\ndisulfiram\ndoxorubicin\nenalapril\nerythromycin ethylsuccinate\nethambutol\nethanol\nethinylestradiol\nethionamide\nethionine\netoposide\nfamotidine\nfenofibrate\nfluoxetine hydrochloride\nfluphenazine\nflutamide\nfurosemide\ngalactosamine\ngemfibrozil\nglibenclamide\ngriseofulvin\nhaloperidol\nhepatocyte growth factor, human\nhexachlorobenzene\nhydroxyzine\nibuprofen\nimipramine\nindomethacin\ninterleukin 1 beta, human\ninterleukin 6, human\niproniazid\nisoniazid\nketoconazole\nlabetalol\nlomustine\nlornoxicam\nmefenamic acid\nmeloxicam\nmetformin\nmethapyrilene\nmethimazole\nmethyldopa\nmethylene dianiline\nmethyltestosterone\nmexiletine\nmonocrotaline\nmoxisylyte\nnaphthyl isothiocyanate\nnaproxen\nnefazodone\nnicotinic acid\nnifedipine\nnimesulide\nnitrofurantoin\nnitrosodiethylamine\nomeprazole\npapaverine\npemoline\npenicillamine\nperhexiline\nphalloidin\nphenacetin\nphenobarbital\nphenylanthranilic acid\nphenylbutazone\nphenytoin\npromethazine\npropranolol\npropylthiouracil\nquinidine\nranitidine\nrifampicin\nrosiglitazone maleate\nrotenone\nsimvastatin\nsulfasalazine\nsulindac\nsulpiride\ntacrine\ntamoxifen\ntannic acid\nterbinafine\ntetracycline\ntheophylline\nthioacetamide\nthioridazine\nticlopidine\ntiopronin\ntolbutamide\ntransforming growth factor beta 1\ntriazolam\ntrimethadione\ntunicamycin\nvalproic acid\nvenlafaxine\nvitamin A\n"
     ]
    }
   ],
   "source": [
    "compounds_name = ''\n",
    "for names in cas_wikidata.values():\n",
    "    compounds_name += ' | '+ names[1]\n",
    "\n",
    "r2 = requests.get(tggatesconvert + 'samples',\n",
    "                  params={'limit': 10000, 'compoundNameFilter': compounds_name[3:],\n",
    "                          'organismFilter': 'Human', 'tissueFilter': 'Liver',\n",
    "                          'cellTypeFilter': 'in vitro', 'repeatTypeFilter': 'Single',\n",
    "                          'timepointHrFilter': '24.0', 'doseLevelFilter': 'High'\n",
    "                          })\n",
    "\n",
    "\n",
    "for x in r2.json()['aggregations']['compoundName']['buckets']:\n",
    "    print(x['key'])"
   ]
  },
  {
   "cell_type": "code",
   "execution_count": 51,
   "metadata": {},
   "outputs": [],
   "source": []
  },
  {
   "cell_type": "code",
   "execution_count": 59,
   "metadata": {},
   "outputs": [
    {
     "name": "stdout",
     "output_type": "stream",
     "text": [
      "19\n155\n"
     ]
    }
   ],
   "source": [
    "print(len(cas_wikidata))\n",
    "print(len(r2.json()['aggregations']['compoundName']['buckets']))"
   ]
  },
  {
   "cell_type": "code",
   "execution_count": null,
   "metadata": {},
   "outputs": [],
   "source": []
  }
 ],
 "metadata": {
  "kernelspec": {
   "display_name": "Python 2",
   "language": "python",
   "name": "python2"
  },
  "language_info": {
   "codemirror_mode": {
    "name": "ipython",
    "version": 2
   },
   "file_extension": ".py",
   "mimetype": "text/x-python",
   "name": "python",
   "nbconvert_exporter": "python",
   "pygments_lexer": "ipython2",
   "version": "2.7.6"
  }
 },
 "nbformat": 4,
 "nbformat_minor": 0
}
